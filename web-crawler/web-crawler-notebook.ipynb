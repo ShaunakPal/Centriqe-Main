{
 "cells": [
  {
   "cell_type": "code",
   "execution_count": 3,
   "metadata": {},
   "outputs": [],
   "source": [
    "#this notebook is setup to remove un wanted characters from the text extracted from the web-crawler"
   ]
  },
  {
   "cell_type": "code",
   "execution_count": 4,
   "metadata": {},
   "outputs": [],
   "source": [
    "def remove_newlines(serie):\n",
    "    serie = serie.str.replace('\\n', ' ')\n",
    "    serie = serie.str.replace('\\\\n', ' ')\n",
    "    serie = serie.str.replace('  ', ' ')\n",
    "    serie = serie.str.replace('  ', ' ')\n",
    "    return serie"
   ]
  },
  {
   "cell_type": "code",
   "execution_count": 8,
   "metadata": {},
   "outputs": [
    {
     "data": {
      "text/html": [
       "<div>\n",
       "<style scoped>\n",
       "    .dataframe tbody tr th:only-of-type {\n",
       "        vertical-align: middle;\n",
       "    }\n",
       "\n",
       "    .dataframe tbody tr th {\n",
       "        vertical-align: top;\n",
       "    }\n",
       "\n",
       "    .dataframe thead th {\n",
       "        text-align: right;\n",
       "    }\n",
       "</style>\n",
       "<table border=\"1\" class=\"dataframe\">\n",
       "  <thead>\n",
       "    <tr style=\"text-align: right;\">\n",
       "      <th></th>\n",
       "      <th>fname</th>\n",
       "      <th>text</th>\n",
       "    </tr>\n",
       "  </thead>\n",
       "  <tbody>\n",
       "    <tr>\n",
       "      <th>0</th>\n",
       "      <td></td>\n",
       "      <td>.     Online Shopping for Men | Formals, Casua...</td>\n",
       "    </tr>\n",
       "    <tr>\n",
       "      <th>1</th>\n",
       "      <td>m</td>\n",
       "      <td>m.     Online Shopping for Men | Formals, Casu...</td>\n",
       "    </tr>\n",
       "    <tr>\n",
       "      <th>2</th>\n",
       "      <td>m account#wishlist</td>\n",
       "      <td>m account#wishlist.     Account – JadeBlue Lif...</td>\n",
       "    </tr>\n",
       "    <tr>\n",
       "      <th>3</th>\n",
       "      <td>m account</td>\n",
       "      <td>m account.     Account – JadeBlue Lifestyle   ...</td>\n",
       "    </tr>\n",
       "    <tr>\n",
       "      <th>4</th>\n",
       "      <td>m account login</td>\n",
       "      <td>m account login.     Account – JadeBlue Lifest...</td>\n",
       "    </tr>\n",
       "  </tbody>\n",
       "</table>\n",
       "</div>"
      ],
      "text/plain": [
       "                fname                                               text\n",
       "0                      .     Online Shopping for Men | Formals, Casua...\n",
       "1                   m  m.     Online Shopping for Men | Formals, Casu...\n",
       "2  m account#wishlist  m account#wishlist.     Account – JadeBlue Lif...\n",
       "3           m account  m account.     Account – JadeBlue Lifestyle   ...\n",
       "4     m account login  m account login.     Account – JadeBlue Lifest..."
      ]
     },
     "execution_count": 8,
     "metadata": {},
     "output_type": "execute_result"
    }
   ],
   "source": [
    "import pandas as pd\n",
    "import os\n",
    "\n",
    "domain = \"jadeblue.com\" # <- put your domain to be crawled\n",
    "\n",
    "# Create a list to store the text files\n",
    "texts=[]\n",
    "\n",
    "# Get all the text files in the text directory\n",
    "for file in os.listdir(\"text/\" + domain + \"/\"):\n",
    "\n",
    "    # Open the file and read the text\n",
    "    with open(\"text/\" + domain + \"/\" + file, \"r\", encoding=\"UTF-8\") as f:\n",
    "        text = f.read()\n",
    "\n",
    "        # Omit the first 11 lines and the last 4 lines, then replace -, _, and #update with spaces.\n",
    "        texts.append((file[11:-4].replace('-',' ').replace('_', ' ').replace('#update',''), text))\n",
    "\n",
    "# Create a dataframe from the list of texts\n",
    "df = pd.DataFrame(texts, columns = ['fname', 'text'])\n",
    "\n",
    "# Set the text column to be the raw text with the newlines removed\n",
    "df['text'] = df.fname + \". \" + remove_newlines(df.text)\n",
    "df['text'].to_string('processed/scraped.txt')\n",
    "df.head()"
   ]
  },
  {
   "cell_type": "code",
   "execution_count": 6,
   "metadata": {},
   "outputs": [
    {
     "data": {
      "text/plain": [
       "0      .     Online Shopping for Men | Formals, Casua...\n",
       "1      m.     Online Shopping for Men | Formals, Casu...\n",
       "2      m account#wishlist.     Account – JadeBlue Lif...\n",
       "3      m account.     Account – JadeBlue Lifestyle   ...\n",
       "4      m account login.     Account – JadeBlue Lifest...\n",
       "                             ...                        \n",
       "204    m pages terms of use.     Terms of Use – JadeB...\n",
       "205    m policies shipping policy.     Shipping polic...\n",
       "206    m search.     Search – JadeBlue Lifestyle     ...\n",
       "207    m wizzy shopify app templates shopify wizzy se...\n",
       "208    m [[url]].     404 Not Found – JadeBlue Lifest...\n",
       "Name: text, Length: 209, dtype: object"
      ]
     },
     "execution_count": 6,
     "metadata": {},
     "output_type": "execute_result"
    }
   ],
   "source": [
    "df['text']"
   ]
  },
  {
   "cell_type": "code",
   "execution_count": 41,
   "metadata": {},
   "outputs": [],
   "source": [
    "def remove_carriage_returns(filename):\n",
    "    with open(filename) as f:\n",
    "        return ''.join([ line.strip() for line in f ])"
   ]
  },
  {
   "cell_type": "code",
   "execution_count": 42,
   "metadata": {},
   "outputs": [],
   "source": [
    "import textwrap\n",
    "\n",
    "def wrap_text(text: str, width: int = 120) -> str:\n",
    "    \"\"\"Wrap text to a specified width.\"\"\"\n",
    "    return '\\n'.join(textwrap.wrap(text, width))"
   ]
  },
  {
   "cell_type": "code",
   "execution_count": 43,
   "metadata": {},
   "outputs": [],
   "source": [
    "txt = remove_carriage_returns(\"./txt/jadeblue.com/jadeblue.com_collections_casuals_products_black-printed-slim-fit-t-shirt-jadeblue-tz7o.txt\")"
   ]
  },
  {
   "cell_type": "code",
   "execution_count": 44,
   "metadata": {},
   "outputs": [
    {
     "data": {
      "text/plain": [
       "'T Shirts For Men - Buy Round Neck Menâ€™s T Shirts Online | JadeBlueâ€“ JadeBlue LifestyleSign up and get 10% discount.\\nUse Code: FIRST10Welcome!Start you blue journey!Login/SignupModi Kurta & JacketModi KurtaModi JacketCasualsTop WearT-\\nShirtsPolo T-ShirtsCasual ShirtsSemi Casual ShirtsBottom WearJeansTrousers & ChinosFormalsTop WearOffice Wear\\nShirtsEvening & Party Wear ShirtsBottom WearFormal TrousersClub Wear TrousersJacketsModi JacketWaistcoats & Bandhgala\\nJacketsSuits & TuxedosBlazersEthnic WearWedding WearJodhpuriSemi IndoWesternIndowesternSherwaniFestive WearKurtasKurta\\nPajamaKurta Pajama with KotiSleeveless BandhgalaChuridar & AligarhiSiddhant Chaturvediâ€˜s\\nPicksLoungewearAthleisureSaleMy AccountContactLogin / Sign upMy OrdersTrack OrderWishlist0SearchSearchHome/Casuals/Black\\nPrinted Slim Fit T-Shirt | JadeBlueBlack Printed Slim Fit T-Shirt | JadeBlueChooseS - sold outM - sold outLXL2XL - sold\\nout3XL - sold out4XL - sold out5XL - sold outQuantityAdd to cartBlack Printed Slim Fit T-Shirt | JadeBlueSale\\npriceâ‚¹734Regular priceâ‚¹1,04930% offUnit price/Â\\xa0perÂPrice inclusive of all taxesShipping calculated at\\ncheckout.SMLXL2XL3XL4XL5XLShareShare on WhatsappShare on FacebookShare on Emailhttps://jadeblue.com/products/black-\\nprinted-slim-fit-t-shirt...https://jadeblue.com/products/black-printed-slim-fit-t-shirt-jadeblue-tz7oCopyProduct URL\\nCopied To Clipboard.No reviewsSelectsizeSMLXL2XL3XL4XL5XLSize ChartChoose your unitsinchescmSIZESMLXLXXL3XL4XL5XLCHEST36\\n38404244464850SHOULDER16.51717.51818.51919.520LENGTH26.527282929.53030.531SIZESMLXLXXL3XL4XL5XLCHEST93.496.6101.6106.611\\n1.8116.8122.0127.0SHOULDER41.943.244.545.747.048.349.550.8LENGTH67.368.671.173.774.976.277.578.7Sizes can vary from 2-3\\ncentimeters because they are measured by hand. 1inch=2.54cm The size matched on a label can differ from the one you have\\norderedAdd to cartNotify MeAdd to Wishlist3Check Delivery & ServicesCheckCheck if COD is availableInternational\\nshippingCheck estimated date of arrivalOffersSign up and get 10% discount. Use Code:Â\\xa0FIRST10Product DetailsColor:\\nBlackFit: Slim FitBrand: JadeBluePattern: PrintedMaterial: 100% CottonCollar: Round NeckSleeve: Half\\nSleeveDescriptionDetails: This Black 100% Cotton T-shirt from JadeBlue is painted with floral prints. Crafted with high-\\nquality 100% Cotton fabric having excellent absorbency quality taking the wearing experience to another level. Offers a\\nSlim fit for a sleek look which has been elevated with a Printed pattern. Features a round neck and half sleeves. Match\\nit with the well-fitted denim of your choice and a pair of white sneakers and you are ready to go.Wash Care:\\nMachine/Hand wash in cold water separately. Use mild detergent. Do not bleach or wring. Tumble dry low. Dry in shade.\\nWarm iron if required.Delivery And ReturnsDeliveryDomestic :Free delivery on orders above â‚¹1999. Orders below â‚¹1999\\nwill incur â‚¹70 as a delivery charge. Cash on delivery will incur â‚¹50 as a delivery charge.  Estimated Delivery\\nTime:Metros: 3-5 working daysRest of India: 6-8 working daysInternational :Shipping charges are to be borne by the\\ncustomer.If custom duty is applicable in your selected country of shipping, then it is to be borne by the customer. Duty\\nmay vary from county to country. Custom clearance is not JadeBlueâ€™s responsibility.Estimated Delivery Time : 12-15\\nworking daysView our full refund and exchange policies here.ReturnAll items purchased from jadeblue.com (with the\\nexception of Ethnic wear, Modi Kurta, Modi Jacket, Waistcoat, Blazer, Suits, Gift vouchers and Free items) can be\\nreturned for a full refund within 7 days from the order date (as recorded by the shipping provider).Read Full Return\\nPolicies here.Additional InfoNet Quantity:        1 NName of the Commodity:       T-ShirtsSeller Name:    JadeBlue\\nLifestyle India LtdSeller Address:     16, Ashwamegh Warehouse, B/H Ujala hotel, Ujala Circle, Sarkhej,\\nAhmedabad-382210Country of Origin:     IndiaCustomer Care Number:      +91 98240 46886Customer Care Email:\\nestore@jadeblue.comCustomer Reviews     Be the first to write a review  Write a review        0% (0)        0% (0)\\n0% (0)        0% (0)        0% (0)InformationAbout JadeBlueContact UsFAQsStore locatorCSRFranchise InquiryLegalTerm of\\nUsePrivacy PolicyDisclaimerReturn & ExchangeShipping PolicyRequest a ReturnContact Us for Store Related InfoAddress: B\\nWing, 6th Floor,Pariseema Complex. CG RoadAhmedabad 380006, GujaratMobile: 70160 40005Landline : 079 26462525 (10 AM to\\n7 PM , Mon to Sat)Email:Â\\xa0customercare@jadeblue.comE Commerce SupportEmail: estore.support@jadeblue.comMobile: +91 98980\\n32852 (10 AM to 7 PM , Mon to Sat)Franchise InquiryFollow Us On :Store Related InformationMobile: 70160 40005Landline:\\n079 26462525 (10 AM to 7 PM , Mon to Sat)Email:Â\\xa0customercare@jadeblue.comE-Commerce Support+91 98980 32852 (10 AM to 7\\nPM , Mon to Sat)BagYour shopping cart is emptyMove to wishlist-->[[/newArrival]][[name]]Sale\\nprice[[#priceWithCurrency]][[ sellingPrice ]][[/priceWithCurrency]][[#discountPercentage]]Regular\\nprice[[#priceWithCurrency]][[ price\\n]][[/priceWithCurrency]][[/discountPercentage]][[#discountPercentage]][[discountPercentage]]%\\noff[[/discountPercentage]]Unit price/Â\\xa0perÂ-->[[/newArrival]][[name]]Sale price[[#priceWithCurrency]][[ sellingPrice\\n]][[/priceWithCurrency]][[#discountPercentage]]Regular price[[#priceWithCurrency]][[ price\\n]][[/priceWithCurrency]][[/discountPercentage]][[#discountPercentage]][[discountPercentage]]%\\noff[[/discountPercentage]]Unit price/Â\\xa0perÂ[[/products]].'"
      ]
     },
     "execution_count": 44,
     "metadata": {},
     "output_type": "execute_result"
    }
   ],
   "source": [
    "wrap_text(txt)"
   ]
  },
  {
   "cell_type": "code",
   "execution_count": 38,
   "metadata": {},
   "outputs": [],
   "source": [
    "import os\n",
    "import shutil\n",
    "\n",
    "def find_file_and_move(source_dir, target_dir):\n",
    "#function finds all files in a directory and if the word \"description\" appears in the file it moves it to a target directory   \n",
    "    for filename in os.listdir(source_dir):\n",
    "        source_filename = os.path.join(source_dir, filename)\n",
    "        if filename.endswith(\".txt\"):\n",
    "            with open(source_filename, 'r', encoding=\"utf-8\") as f:\n",
    "                for line in f:\n",
    "                    if 'Description' in line:\n",
    "                        shutil.move(source_filename, target_dir)\n",
    "                        break\n",
    "            f.close()"
   ]
  },
  {
   "cell_type": "code",
   "execution_count": 40,
   "metadata": {},
   "outputs": [
    {
     "ename": "PermissionError",
     "evalue": "[WinError 32] The process cannot access the file because it is being used by another process: './txt/jadeblue.com/jadeblue.com_collections_casuals_products_beige-solid-uno-fit-casual-trouser-jadeblue-jnbw.txt'",
     "output_type": "error",
     "traceback": [
      "\u001b[1;31m---------------------------------------------------------------------------\u001b[0m",
      "\u001b[1;31mPermissionError\u001b[0m                           Traceback (most recent call last)",
      "File \u001b[1;32mD:\\Python310\\lib\\shutil.py:816\u001b[0m, in \u001b[0;36mmove\u001b[1;34m(src, dst, copy_function)\u001b[0m\n\u001b[0;32m    815\u001b[0m \u001b[39mtry\u001b[39;00m:\n\u001b[1;32m--> 816\u001b[0m     os\u001b[39m.\u001b[39;49mrename(src, real_dst)\n\u001b[0;32m    817\u001b[0m \u001b[39mexcept\u001b[39;00m \u001b[39mOSError\u001b[39;00m:\n",
      "\u001b[1;31mPermissionError\u001b[0m: [WinError 32] The process cannot access the file because it is being used by another process: './txt/jadeblue.com/jadeblue.com_collections_casuals_products_beige-solid-uno-fit-casual-trouser-jadeblue-jnbw.txt' -> './txt/jadeblue.com/processed/jadeblue.com_collections_casuals_products_beige-solid-uno-fit-casual-trouser-jadeblue-jnbw.txt'",
      "\nDuring handling of the above exception, another exception occurred:\n",
      "\u001b[1;31mPermissionError\u001b[0m                           Traceback (most recent call last)",
      "Cell \u001b[1;32mIn[40], line 1\u001b[0m\n\u001b[1;32m----> 1\u001b[0m find_file_and_move(\u001b[39m'\u001b[39;49m\u001b[39m./txt/jadeblue.com/\u001b[39;49m\u001b[39m'\u001b[39;49m, \u001b[39m'\u001b[39;49m\u001b[39m./txt/jadeblue.com/processed/\u001b[39;49m\u001b[39m'\u001b[39;49m)\n",
      "Cell \u001b[1;32mIn[38], line 12\u001b[0m, in \u001b[0;36mfind_file_and_move\u001b[1;34m(source_dir, target_dir)\u001b[0m\n\u001b[0;32m     10\u001b[0m     \u001b[39mfor\u001b[39;00m line \u001b[39min\u001b[39;00m f:\n\u001b[0;32m     11\u001b[0m         \u001b[39mif\u001b[39;00m \u001b[39m'\u001b[39m\u001b[39mDescription\u001b[39m\u001b[39m'\u001b[39m \u001b[39min\u001b[39;00m line:\n\u001b[1;32m---> 12\u001b[0m             shutil\u001b[39m.\u001b[39;49mmove(source_filename, target_dir)\n\u001b[0;32m     13\u001b[0m             \u001b[39mbreak\u001b[39;00m\n\u001b[0;32m     14\u001b[0m f\u001b[39m.\u001b[39mclose()\n",
      "File \u001b[1;32mD:\\Python310\\lib\\shutil.py:837\u001b[0m, in \u001b[0;36mmove\u001b[1;34m(src, dst, copy_function)\u001b[0m\n\u001b[0;32m    835\u001b[0m     \u001b[39melse\u001b[39;00m:\n\u001b[0;32m    836\u001b[0m         copy_function(src, real_dst)\n\u001b[1;32m--> 837\u001b[0m         os\u001b[39m.\u001b[39;49munlink(src)\n\u001b[0;32m    838\u001b[0m \u001b[39mreturn\u001b[39;00m real_dst\n",
      "\u001b[1;31mPermissionError\u001b[0m: [WinError 32] The process cannot access the file because it is being used by another process: './txt/jadeblue.com/jadeblue.com_collections_casuals_products_beige-solid-uno-fit-casual-trouser-jadeblue-jnbw.txt'"
     ]
    }
   ],
   "source": [
    "find_file_and_move('./txt/jadeblue.com/', './txt/jadeblue.com/processed/')"
   ]
  }
 ],
 "metadata": {
  "kernelspec": {
   "display_name": ".venv",
   "language": "python",
   "name": "python3"
  },
  "language_info": {
   "codemirror_mode": {
    "name": "ipython",
    "version": 3
   },
   "file_extension": ".py",
   "mimetype": "text/x-python",
   "name": "python",
   "nbconvert_exporter": "python",
   "pygments_lexer": "ipython3",
   "version": "3.10.9"
  },
  "orig_nbformat": 4
 },
 "nbformat": 4,
 "nbformat_minor": 2
}
