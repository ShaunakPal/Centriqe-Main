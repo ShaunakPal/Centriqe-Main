{
 "cells": [
  {
   "cell_type": "code",
   "execution_count": 16,
   "metadata": {},
   "outputs": [],
   "source": [
    "import os\n",
    "import openai\n",
    "import json\n",
    "from dotenv import load_dotenv\n",
    "\n",
    "load_dotenv()\n",
    "\n",
    "openai.api_key = os.getenv(\"OPENAI_API_KEY\")\n",
    "model_deployment_name=\"gpt-3.5-turbo-16k\""
   ]
  },
  {
   "cell_type": "code",
   "execution_count": 17,
   "metadata": {},
   "outputs": [],
   "source": [
    "#capture a query from the user, any question to ask the LLM model\n",
    "query=input()"
   ]
  },
  {
   "cell_type": "code",
   "execution_count": 18,
   "metadata": {},
   "outputs": [],
   "source": [
    "system = f'You are a generic AI whose job it is to answer simple questions from users'"
   ]
  },
  {
   "cell_type": "code",
   "execution_count": 19,
   "metadata": {},
   "outputs": [],
   "source": [
    "question=query\n",
    "messages=[\n",
    "        {\"role\": \"system\", \"content\": f'{system}'},\n",
    "        {\"role\": \"user\", \"content\": f'{question}'}\n",
    "    ]"
   ]
  },
  {
   "cell_type": "code",
   "execution_count": 20,
   "metadata": {},
   "outputs": [],
   "source": [
    "# write out the messages so we can see the structure of a chat conversation\n",
    "with open('messages.json', 'a') as fp:\n",
    "    fp.write(json.dumps(messages))"
   ]
  },
  {
   "cell_type": "code",
   "execution_count": 22,
   "metadata": {},
   "outputs": [],
   "source": [
    "response = openai.ChatCompletion.create(\n",
    "    model=model_deployment_name,\n",
    "    messages=messages,\n",
    "    temperature=1, #gives more idea generation and a less consistent story\n",
    "    stream=True,\n",
    "    max_tokens=256,\n",
    "    top_p=1,\n",
    "    frequency_penalty=0,\n",
    "    presence_penalty=0\n",
    ")"
   ]
  },
  {
   "cell_type": "code",
   "execution_count": 23,
   "metadata": {},
   "outputs": [
    {
     "name": "stdout",
     "output_type": "stream",
     "text": [
      "Full conversation received: OpenAI is an artificial intelligence research laboratory and technology company. Its primary mission is to ensure that artificial general intelligence (AGI) benefits all of humanity. OpenAI conducts cutting-edge research in various AI fields and develops AI models, tools, and algorithms that can be used in a wide range of applications. It also aims to provide public goods and influence the deployment of AI technology in a way that is safe, beneficial, and ethical.\n"
     ]
    }
   ],
   "source": [
    "\n",
    "# create variables to collect the stream of chunks\n",
    "collected_messages = []\n",
    "# iterate through the stream of events\n",
    "for chunk in response:\n",
    "    chunk_message = chunk['choices'][0]['delta']  # extract the message\n",
    "    collected_messages.append(chunk_message)  # save the message\n",
    "    #print(f\"Message received: {chunk_message}\")  # print the delay and text\n",
    "\n",
    "full_reply_content = ''.join([m.get('content', '') for m in collected_messages])\n",
    "print(f\"Full conversation received: {full_reply_content}\")"
   ]
  }
 ],
 "metadata": {
  "kernelspec": {
   "display_name": "Python 3",
   "language": "python",
   "name": "python3"
  },
  "language_info": {
   "codemirror_mode": {
    "name": "ipython",
    "version": 3
   },
   "file_extension": ".py",
   "mimetype": "text/x-python",
   "name": "python",
   "nbconvert_exporter": "python",
   "pygments_lexer": "ipython3",
   "version": "3.10.9"
  },
  "orig_nbformat": 4
 },
 "nbformat": 4,
 "nbformat_minor": 2
}
